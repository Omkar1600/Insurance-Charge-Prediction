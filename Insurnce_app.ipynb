{
 "cells": [
  {
   "cell_type": "code",
   "execution_count": 5,
   "id": "777d130d",
   "metadata": {},
   "outputs": [],
   "source": [
    "import pandas as pd \n",
    "import numpy as np "
   ]
  },
  {
   "cell_type": "code",
   "execution_count": 3,
   "id": "c1b57032",
   "metadata": {},
   "outputs": [],
   "source": [
    "df=pd.read_csv('insurance.csv')"
   ]
  },
  {
   "cell_type": "code",
   "execution_count": 10,
   "id": "b28169bf",
   "metadata": {},
   "outputs": [
    {
     "data": {
      "text/html": [
       "<div>\n",
       "<style scoped>\n",
       "    .dataframe tbody tr th:only-of-type {\n",
       "        vertical-align: middle;\n",
       "    }\n",
       "\n",
       "    .dataframe tbody tr th {\n",
       "        vertical-align: top;\n",
       "    }\n",
       "\n",
       "    .dataframe thead th {\n",
       "        text-align: right;\n",
       "    }\n",
       "</style>\n",
       "<table border=\"1\" class=\"dataframe\">\n",
       "  <thead>\n",
       "    <tr style=\"text-align: right;\">\n",
       "      <th></th>\n",
       "      <th>age</th>\n",
       "      <th>sex</th>\n",
       "      <th>bmi</th>\n",
       "      <th>children</th>\n",
       "      <th>smoker</th>\n",
       "      <th>region</th>\n",
       "      <th>charges</th>\n",
       "    </tr>\n",
       "  </thead>\n",
       "  <tbody>\n",
       "    <tr>\n",
       "      <th>0</th>\n",
       "      <td>19</td>\n",
       "      <td>female</td>\n",
       "      <td>27.900</td>\n",
       "      <td>0</td>\n",
       "      <td>yes</td>\n",
       "      <td>southwest</td>\n",
       "      <td>16884.92400</td>\n",
       "    </tr>\n",
       "    <tr>\n",
       "      <th>1</th>\n",
       "      <td>18</td>\n",
       "      <td>male</td>\n",
       "      <td>33.770</td>\n",
       "      <td>1</td>\n",
       "      <td>no</td>\n",
       "      <td>southeast</td>\n",
       "      <td>1725.55230</td>\n",
       "    </tr>\n",
       "    <tr>\n",
       "      <th>2</th>\n",
       "      <td>28</td>\n",
       "      <td>male</td>\n",
       "      <td>33.000</td>\n",
       "      <td>3</td>\n",
       "      <td>no</td>\n",
       "      <td>southeast</td>\n",
       "      <td>4449.46200</td>\n",
       "    </tr>\n",
       "    <tr>\n",
       "      <th>3</th>\n",
       "      <td>33</td>\n",
       "      <td>male</td>\n",
       "      <td>22.705</td>\n",
       "      <td>0</td>\n",
       "      <td>no</td>\n",
       "      <td>northwest</td>\n",
       "      <td>21984.47061</td>\n",
       "    </tr>\n",
       "    <tr>\n",
       "      <th>4</th>\n",
       "      <td>32</td>\n",
       "      <td>male</td>\n",
       "      <td>28.880</td>\n",
       "      <td>0</td>\n",
       "      <td>no</td>\n",
       "      <td>northwest</td>\n",
       "      <td>3866.85520</td>\n",
       "    </tr>\n",
       "  </tbody>\n",
       "</table>\n",
       "</div>"
      ],
      "text/plain": [
       "   age     sex     bmi  children smoker     region      charges\n",
       "0   19  female  27.900         0    yes  southwest  16884.92400\n",
       "1   18    male  33.770         1     no  southeast   1725.55230\n",
       "2   28    male  33.000         3     no  southeast   4449.46200\n",
       "3   33    male  22.705         0     no  northwest  21984.47061\n",
       "4   32    male  28.880         0     no  northwest   3866.85520"
      ]
     },
     "execution_count": 10,
     "metadata": {},
     "output_type": "execute_result"
    }
   ],
   "source": [
    "df.head()"
   ]
  },
  {
   "cell_type": "code",
   "execution_count": 7,
   "id": "e71a879c",
   "metadata": {},
   "outputs": [],
   "source": [
    "from sklearn.ensemble import GradientBoostingRegressor\n",
    "from sklearn.model_selection import train_test_split"
   ]
  },
  {
   "cell_type": "code",
   "execution_count": 11,
   "id": "845c5861",
   "metadata": {},
   "outputs": [
    {
     "data": {
      "text/plain": [
       "array([0, 1])"
      ]
     },
     "execution_count": 11,
     "metadata": {},
     "output_type": "execute_result"
    }
   ],
   "source": [
    "from sklearn.preprocessing import LabelEncoder\n",
    "le_sex=LabelEncoder()\n",
    "df['sex']=le_sex.fit_transform(df['sex'])\n",
    "df[\"sex\"].unique()"
   ]
  },
  {
   "cell_type": "code",
   "execution_count": 13,
   "id": "860f2f9d",
   "metadata": {},
   "outputs": [
    {
     "data": {
      "text/plain": [
       "array([1, 0])"
      ]
     },
     "execution_count": 13,
     "metadata": {},
     "output_type": "execute_result"
    }
   ],
   "source": [
    "le_smoker=LabelEncoder()\n",
    "df['smoker']=le_smoker.fit_transform(df['smoker'])\n",
    "df[\"smoker\"].unique()"
   ]
  },
  {
   "cell_type": "code",
   "execution_count": 15,
   "id": "81c9e5af",
   "metadata": {},
   "outputs": [
    {
     "data": {
      "text/plain": [
       "array([3, 2, 1, 0])"
      ]
     },
     "execution_count": 15,
     "metadata": {},
     "output_type": "execute_result"
    }
   ],
   "source": [
    "le_region=LabelEncoder()\n",
    "df['region']=le_region.fit_transform(df['region'])\n",
    "df[\"region\"].unique()"
   ]
  },
  {
   "cell_type": "code",
   "execution_count": 18,
   "id": "40a890b4",
   "metadata": {},
   "outputs": [],
   "source": [
    "X=df.drop(columns='charges',axis=1)\n",
    "y=df.charges\n",
    "X_train, X_test, y_train, y_test = train_test_split( X, y, random_state=0)"
   ]
  },
  {
   "cell_type": "code",
   "execution_count": 19,
   "id": "4aad87dc",
   "metadata": {},
   "outputs": [],
   "source": [
    "model = GradientBoostingRegressor(random_state=0)"
   ]
  },
  {
   "cell_type": "code",
   "execution_count": 20,
   "id": "abf015c5",
   "metadata": {},
   "outputs": [
    {
     "data": {
      "text/plain": [
       "GradientBoostingRegressor(random_state=0)"
      ]
     },
     "execution_count": 20,
     "metadata": {},
     "output_type": "execute_result"
    }
   ],
   "source": [
    "model.fit(X_train, y_train)"
   ]
  },
  {
   "cell_type": "code",
   "execution_count": 21,
   "id": "b4a63cd0",
   "metadata": {},
   "outputs": [],
   "source": [
    "yp=model.predict(X_test)"
   ]
  },
  {
   "cell_type": "code",
   "execution_count": 22,
   "id": "6234ad3e",
   "metadata": {},
   "outputs": [],
   "source": [
    "from sklearn.metrics import mean_squared_error"
   ]
  },
  {
   "cell_type": "code",
   "execution_count": 23,
   "id": "560b4738",
   "metadata": {},
   "outputs": [
    {
     "data": {
      "text/plain": [
       "4455.64387410101"
      ]
     },
     "execution_count": 23,
     "metadata": {},
     "output_type": "execute_result"
    }
   ],
   "source": [
    "error=np.sqrt(mean_squared_error(y_test,yp))\n",
    "error"
   ]
  },
  {
   "cell_type": "code",
   "execution_count": 30,
   "id": "b831c8a1",
   "metadata": {},
   "outputs": [
    {
     "data": {
      "text/plain": [
       "array([['20', 'male', '27.9', '2', 'yes', 'southwest']], dtype='<U32')"
      ]
     },
     "execution_count": 30,
     "metadata": {},
     "output_type": "execute_result"
    }
   ],
   "source": [
    "t=np.array([[20,\"male\",27.90,2,\"yes\",\"southwest\"]])\n",
    "t"
   ]
  },
  {
   "cell_type": "code",
   "execution_count": 31,
   "id": "eee51995",
   "metadata": {},
   "outputs": [
    {
     "data": {
      "text/plain": [
       "array([[20. ,  1. , 27.9,  2. ,  1. ,  3. ]])"
      ]
     },
     "execution_count": 31,
     "metadata": {},
     "output_type": "execute_result"
    }
   ],
   "source": [
    "t[:,1]=le_sex.transform(t[:,1])\n",
    "t[:,4]=le_smoker.transform(t[:,4])\n",
    "t[:,5]=le_region.transform(t[:,5])\n",
    "t=t.astype(float)\n",
    "t"
   ]
  },
  {
   "cell_type": "code",
   "execution_count": 33,
   "id": "bd52d201",
   "metadata": {},
   "outputs": [],
   "source": [
    "import pickle"
   ]
  },
  {
   "cell_type": "code",
   "execution_count": 35,
   "id": "710c621b",
   "metadata": {},
   "outputs": [],
   "source": [
    "data={\"model\":model,\"le_sex\":le_sex,\"le_smoker\":le_smoker,\"le_region\":le_region}\n",
    "with open ('steps.pkl','wb') as file:\n",
    "    pickle.dump(data,file)"
   ]
  },
  {
   "cell_type": "code",
   "execution_count": 37,
   "id": "e7cc6ff0",
   "metadata": {},
   "outputs": [
    {
     "data": {
      "text/plain": [
       "array([27.9  , 33.77 , 33.   , 22.705, 28.88 , 25.74 , 33.44 , 27.74 ,\n",
       "       29.83 , 25.84 , 26.22 , 26.29 , 34.4  , 39.82 , 42.13 , 24.6  ,\n",
       "       30.78 , 23.845, 40.3  , 35.3  , 36.005, 32.4  , 34.1  , 31.92 ,\n",
       "       28.025, 27.72 , 23.085, 32.775, 17.385, 36.3  , 35.6  , 26.315,\n",
       "       28.6  , 28.31 , 20.425, 32.965, 20.8  , 36.67 , 39.9  , 26.6  ,\n",
       "       36.63 , 21.78 , 30.8  , 37.05 , 37.3  , 38.665, 34.77 , 24.53 ,\n",
       "       35.2  , 35.625, 33.63 , 28.   , 34.43 , 28.69 , 36.955, 31.825,\n",
       "       31.68 , 22.88 , 37.335, 27.36 , 33.66 , 24.7  , 25.935, 22.42 ,\n",
       "       28.9  , 39.1  , 36.19 , 23.98 , 24.75 , 28.5  , 28.1  , 32.01 ,\n",
       "       27.4  , 34.01 , 29.59 , 35.53 , 39.805, 26.885, 38.285, 37.62 ,\n",
       "       41.23 , 34.8  , 22.895, 31.16 , 27.2  , 26.98 , 39.49 , 24.795,\n",
       "       31.3  , 38.28 , 19.95 , 19.3  , 31.6  , 25.46 , 30.115, 29.92 ,\n",
       "       27.5  , 28.4  , 30.875, 27.94 , 35.09 , 29.7  , 35.72 , 32.205,\n",
       "       28.595, 49.06 , 27.17 , 23.37 , 37.1  , 23.75 , 28.975, 31.35 ,\n",
       "       33.915, 28.785, 28.3  , 37.4  , 17.765, 34.7  , 26.505, 22.04 ,\n",
       "       35.9  , 25.555, 28.05 , 25.175, 31.9  , 36.   , 32.49 , 25.3  ,\n",
       "       29.735, 38.83 , 30.495, 37.73 , 37.43 , 24.13 , 37.145, 39.52 ,\n",
       "       24.42 , 27.83 , 36.85 , 39.6  , 29.8  , 29.64 , 28.215, 37.   ,\n",
       "       33.155, 18.905, 41.47 , 30.3  , 15.96 , 33.345, 37.7  , 27.835,\n",
       "       29.2  , 26.41 , 30.69 , 41.895, 30.9  , 32.2  , 32.11 , 31.57 ,\n",
       "       26.2  , 30.59 , 32.8  , 18.05 , 39.33 , 32.23 , 24.035, 36.08 ,\n",
       "       22.3  , 26.4  , 31.8  , 26.73 , 23.1  , 23.21 , 33.7  , 33.25 ,\n",
       "       24.64 , 33.88 , 38.06 , 41.91 , 31.635, 36.195, 17.8  , 24.51 ,\n",
       "       22.22 , 38.39 , 29.07 , 22.135, 26.8  , 30.02 , 35.86 , 20.9  ,\n",
       "       17.29 , 34.21 , 25.365, 40.15 , 24.415, 25.2  , 26.84 , 24.32 ,\n",
       "       42.35 , 19.8  , 32.395, 30.2  , 29.37 , 34.2  , 27.455, 27.55 ,\n",
       "       20.615, 24.3  , 31.79 , 21.56 , 28.12 , 40.565, 27.645, 31.2  ,\n",
       "       26.62 , 48.07 , 36.765, 33.4  , 45.54 , 28.82 , 22.99 , 27.7  ,\n",
       "       25.41 , 34.39 , 22.61 , 37.51 , 38.   , 33.33 , 34.865, 33.06 ,\n",
       "       35.97 , 31.4  , 25.27 , 40.945, 34.105, 36.48 , 33.8  , 36.7  ,\n",
       "       36.385, 34.5  , 32.3  , 27.6  , 29.26 , 35.75 , 23.18 , 25.6  ,\n",
       "       35.245, 43.89 , 20.79 , 30.5  , 21.7  , 21.89 , 24.985, 32.015,\n",
       "       30.4  , 21.09 , 22.23 , 32.9  , 24.89 , 31.46 , 17.955, 30.685,\n",
       "       43.34 , 39.05 , 30.21 , 31.445, 19.855, 31.02 , 38.17 , 20.6  ,\n",
       "       47.52 , 20.4  , 38.38 , 24.31 , 23.6  , 21.12 , 30.03 , 17.48 ,\n",
       "       20.235, 17.195, 23.9  , 35.15 , 35.64 , 22.6  , 39.16 , 27.265,\n",
       "       29.165, 16.815, 33.1  , 26.9  , 33.11 , 31.73 , 46.75 , 29.45 ,\n",
       "       32.68 , 33.5  , 43.01 , 36.52 , 26.695, 25.65 , 29.6  , 38.6  ,\n",
       "       23.4  , 46.53 , 30.14 , 30.   , 38.095, 28.38 , 28.7  , 33.82 ,\n",
       "       24.09 , 32.67 , 25.1  , 32.56 , 41.325, 39.5  , 34.3  , 31.065,\n",
       "       21.47 , 25.08 , 43.4  , 25.7  , 27.93 , 39.2  , 26.03 , 30.25 ,\n",
       "       28.93 , 35.7  , 35.31 , 31.   , 44.22 , 26.07 , 25.8  , 39.425,\n",
       "       40.48 , 38.9  , 47.41 , 35.435, 46.7  , 46.2  , 21.4  , 23.8  ,\n",
       "       44.77 , 32.12 , 29.1  , 37.29 , 43.12 , 36.86 , 34.295, 23.465,\n",
       "       45.43 , 23.65 , 20.7  , 28.27 , 35.91 , 29.   , 19.57 , 31.13 ,\n",
       "       21.85 , 40.26 , 33.725, 29.48 , 32.6  , 37.525, 23.655, 37.8  ,\n",
       "       19.   , 21.3  , 33.535, 42.46 , 38.95 , 36.1  , 29.3  , 39.7  ,\n",
       "       38.19 , 42.4  , 34.96 , 42.68 , 31.54 , 29.81 , 21.375, 40.81 ,\n",
       "       17.4  , 20.3  , 18.5  , 26.125, 41.69 , 24.1  , 36.2  , 40.185,\n",
       "       39.27 , 34.87 , 44.745, 29.545, 23.54 , 40.47 , 40.66 , 36.6  ,\n",
       "       35.4  , 27.075, 28.405, 21.755, 40.28 , 30.1  , 32.1  , 23.7  ,\n",
       "       35.5  , 29.15 , 27.   , 37.905, 22.77 , 22.8  , 34.58 , 27.1  ,\n",
       "       19.475, 26.7  , 34.32 , 24.4  , 41.14 , 22.515, 41.8  , 26.18 ,\n",
       "       42.24 , 26.51 , 35.815, 41.42 , 36.575, 42.94 , 21.01 , 24.225,\n",
       "       17.67 , 31.5  , 31.1  , 32.78 , 32.45 , 50.38 , 47.6  , 25.4  ,\n",
       "       29.9  , 43.7  , 24.86 , 28.8  , 29.5  , 29.04 , 38.94 , 44.   ,\n",
       "       20.045, 40.92 , 35.1  , 29.355, 32.585, 32.34 , 39.8  , 24.605,\n",
       "       33.99 , 28.2  , 25.   , 33.2  , 23.2  , 20.1  , 32.5  , 37.18 ,\n",
       "       46.09 , 39.93 , 35.8  , 31.255, 18.335, 42.9  , 26.79 , 39.615,\n",
       "       25.9  , 25.745, 28.16 , 23.56 , 40.5  , 35.42 , 39.995, 34.675,\n",
       "       20.52 , 23.275, 36.29 , 32.7  , 19.19 , 20.13 , 23.32 , 45.32 ,\n",
       "       34.6  , 18.715, 21.565, 23.   , 37.07 , 52.58 , 42.655, 21.66 ,\n",
       "       32.   , 18.3  , 47.74 , 22.1  , 19.095, 31.24 , 29.925, 20.35 ,\n",
       "       25.85 , 42.75 , 18.6  , 23.87 , 45.9  , 21.5  , 30.305, 44.88 ,\n",
       "       41.1  , 40.37 , 28.49 , 33.55 , 40.375, 27.28 , 17.86 , 33.3  ,\n",
       "       39.14 , 21.945, 24.97 , 23.94 , 21.8  , 23.3  , 36.96 , 21.28 ,\n",
       "       29.4  , 27.3  , 37.9  , 37.715, 23.76 , 34.485, 25.52 , 27.61 ,\n",
       "       27.06 , 39.4  , 34.9  , 22.   , 30.36 , 27.8  , 53.13 , 39.71 ,\n",
       "       32.87 , 44.7  , 30.97 ])"
      ]
     },
     "execution_count": 37,
     "metadata": {},
     "output_type": "execute_result"
    }
   ],
   "source": [
    "df['bmi'].unique()"
   ]
  }
 ],
 "metadata": {
  "kernelspec": {
   "display_name": "Python 3 (ipykernel)",
   "language": "python",
   "name": "python3"
  },
  "language_info": {
   "codemirror_mode": {
    "name": "ipython",
    "version": 3
   },
   "file_extension": ".py",
   "mimetype": "text/x-python",
   "name": "python",
   "nbconvert_exporter": "python",
   "pygments_lexer": "ipython3",
   "version": "3.10.2"
  }
 },
 "nbformat": 4,
 "nbformat_minor": 5
}
